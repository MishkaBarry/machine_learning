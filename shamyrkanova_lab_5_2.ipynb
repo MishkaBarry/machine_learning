{
 "cells": [
  {
   "cell_type": "markdown",
   "metadata": {
    "colab_type": "text",
    "id": "itd12M33SHA8"
   },
   "source": [
    "---"
   ]
  },
  {
   "cell_type": "markdown",
   "metadata": {
    "colab_type": "text",
    "id": "Byi94vBkSHA-"
   },
   "source": [
    "---"
   ]
  },
  {
   "cell_type": "code",
   "execution_count": 12,
   "metadata": {
    "colab": {},
    "colab_type": "code",
    "id": "bsVvlhWKXSFq"
   },
   "outputs": [],
   "source": [
    "import numpy as np\n",
    "import pandas as pd\n",
    "import os\n",
    "import matplotlib.pyplot as plt\n",
    "%matplotlib inline"
   ]
  },
  {
   "cell_type": "code",
   "execution_count": 13,
   "metadata": {
    "colab": {},
    "colab_type": "code",
    "id": "aTHjmQeBXSFw"
   },
   "outputs": [],
   "source": [
    "from torch.autograd import Variable\n",
    "import torch.nn as nn\n",
    "import torch.nn.functional as F\n",
    "import torch.optim as optim\n",
    "import torch.utils.data as data_utils\n",
    "import torch\n",
    "\n",
    "import torchvision\n",
    "from torchvision import transforms\n",
    "from PIL import Image"
   ]
  },
  {
   "cell_type": "markdown",
   "metadata": {
    "colab_type": "text",
    "id": "nr-8kc7pSHBE"
   },
   "source": [
    "---"
   ]
  },
  {
   "cell_type": "markdown",
   "metadata": {
    "colab_type": "text",
    "id": "G8US0XxAeYBK"
   },
   "source": [
    "#### Если вы работаете в Google Colab,  запустите следующие две клетки"
   ]
  },
  {
   "cell_type": "code",
   "execution_count": 14,
   "metadata": {
    "colab": {
     "base_uri": "https://localhost:8080/",
     "height": 234
    },
    "colab_type": "code",
    "id": "HyLx61vMilm2",
    "outputId": "e9f80d4f-9420-4c03-d2f0-4123718fae13"
   },
   "outputs": [],
   "source": [
    "#  !pip install --no-cache-dir -I pillow"
   ]
  },
  {
   "cell_type": "code",
   "execution_count": 15,
   "metadata": {
    "colab": {
     "base_uri": "https://localhost:8080/",
     "height": 91
    },
    "colab_type": "code",
    "id": "giNXqaMhYDhB",
    "outputId": "b3f1a2af-42ba-4efa-c780-b690eb817f98"
   },
   "outputs": [],
   "source": [
    "\n",
    "# from os.path import exists\n",
    "# from wheel.pep425tags import get_abbr_impl, get_impl_ver, get_abi_tag\n",
    "# platform = '{}{}-{}'.format(get_abbr_impl(), get_impl_ver(), get_abi_tag())\n",
    "# cuda_output = !ldconfig -p|grep cudart.so|sed -e 's/.*\\.\\([0-9]*\\)\\.\\([0-9]*\\)$/cu\\1\\2/'\n",
    "# accelerator = cuda_output[0] if exists('/dev/nvidia0') else 'cpu'\n",
    "\n",
    "# !pip install -q http://download.pytorch.org/whl/{accelerator}/torch-0.4.1-{platform}-linux_x86_64.whl torchvision\n",
    "# import torch"
   ]
  },
  {
   "cell_type": "markdown",
   "metadata": {
    "colab_type": "text",
    "id": "0NxvwRyXgQ8u"
   },
   "source": [
    "Также, если вы работаете в colab, вам придётся загрузить в него notMNIST.\n",
    "Это можно сделать например так:\n",
    "\n",
    "- Скачать оба архива по ссылке ниже\n",
    "- Загрузить их на colab, исполнив следующую клетку\n",
    "- Распаковать их, исполнив код в клетке за ней"
   ]
  },
  {
   "cell_type": "code",
   "execution_count": 16,
   "metadata": {
    "colab": {
     "base_uri": "https://localhost:8080/",
     "height": 90,
     "resources": {
      "http://localhost:8080/nbextensions/google.colab/files.js": {
       "data": "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",
       "headers": [
        [
         "content-type",
         "application/javascript"
        ]
       ],
       "ok": true,
       "status": 200,
       "status_text": ""
      }
     }
    },
    "colab_type": "code",
    "id": "tbgcHghDg3NO",
    "outputId": "32a576bc-752d-4bb8-aa2a-b43147e867db"
   },
   "outputs": [],
   "source": [
    "# from google.colab import files\n",
    "\n",
    "# uploaded = files.upload()\n",
    "\n",
    "# for fn in uploaded.keys():\n",
    "#   print('User uploaded file \"{name}\" with length {length} bytes'.format(\n",
    "#         name=fn, length=len(uploaded[fn])))"
   ]
  },
  {
   "cell_type": "code",
   "execution_count": 17,
   "metadata": {
    "colab": {
     "base_uri": "https://localhost:8080/",
     "height": 53
    },
    "colab_type": "code",
    "id": "cJfZmW9mhEeU",
    "outputId": "5db1fc71-6fa3-4817-92f2-9f55b92b404c"
   },
   "outputs": [],
   "source": [
    "# !unzip -q notMNIST_val.zip\n",
    "# !unzip -q notMNIST_train.zip\n",
    "# !ls"
   ]
  },
  {
   "cell_type": "markdown",
   "metadata": {
    "colab_type": "text",
    "id": "OK90Uz6qSHBU"
   },
   "source": [
    "---"
   ]
  },
  {
   "cell_type": "markdown",
   "metadata": {
    "colab_type": "text",
    "id": "EuIZP9T8XSF1"
   },
   "source": [
    "Сейчас мы будем работать с датасетом под названием notMNIST. Это задача классификации на 10 классов (как и в обычном MNIST), то только классы здесь -- не цифры от 0 до 9, в буквы латинского алфавита от **A** до **J**\n",
    "\n"
   ]
  },
  {
   "cell_type": "code",
   "execution_count": 18,
   "metadata": {
    "colab": {},
    "colab_type": "code",
    "id": "5TT_UummXSF3"
   },
   "outputs": [],
   "source": [
    "classes = os.listdir(\"./notMNIST_train\")"
   ]
  },
  {
   "cell_type": "code",
   "execution_count": 19,
   "metadata": {
    "colab": {
     "base_uri": "https://localhost:8080/",
     "height": 35
    },
    "colab_type": "code",
    "id": "LGc3PjrtXSF8",
    "outputId": "2ba910c8-d399-45d3-dd5c-5aa41e2d67a2"
   },
   "outputs": [
    {
     "data": {
      "text/plain": [
       "['A', 'B', 'C', 'D', 'E', 'F', 'G', 'H', 'I', 'J']"
      ]
     },
     "execution_count": 19,
     "metadata": {},
     "output_type": "execute_result"
    }
   ],
   "source": [
    "n_classes = len(classes)\n",
    "classes = sorted(classes)\n",
    "classes"
   ]
  },
  {
   "cell_type": "markdown",
   "metadata": {
    "colab_type": "text",
    "id": "V7hsnbf7XSGD"
   },
   "source": [
    "Все изображения букв имеют размер 28$\\times$28. Давайте вынесем высоту и ширину картинок в константные переменные:"
   ]
  },
  {
   "cell_type": "code",
   "execution_count": 20,
   "metadata": {
    "colab": {},
    "colab_type": "code",
    "id": "p9HuhL3BXSGF"
   },
   "outputs": [],
   "source": [
    "IMG_H = 28\n",
    "IMG_W = 28"
   ]
  },
  {
   "cell_type": "markdown",
   "metadata": {
    "colab_type": "text",
    "id": "PrrXp5wHXSGJ"
   },
   "source": [
    "Чтобы облегчить себе работу, воспользуемся загрузчиком датасетов, втроенном в torch. Если у нас стоит задача классификации на N классов, и тренировочные данные дежат в отдельной папке (у нас это notMNIST_train), и внутри папки картинки каждого класса лежат в отдельной папке с названием класса, то мы можем загрузить данные в память компьютера для того чтобы дальше подавать эти данные на вход сети, используя torchvision.datasets.ImageFolder. \n",
    "\n",
    "На вход torchvision.datasets.ImageFolder нужно подать название папки с данными (т.е. notMNIST_train в нашем случае) и преобразования, которые необходимо применить к изображениям в папке, прежде чем сформировать из них датасет (например, если изображения в папке разных размеров, их нужно привести к одному размеру. Мы же будем переводить картинки из rgb в черно-белый формат и конвертировать их в tensor для более простой работы с ними при обучении нейронной сети).\n",
    "\n",
    "После этого останется обернуть объект, который вернет torchvision.datasets.ImageFolder, в data_utils.DataLoader, и мы получим на выходе объект (ниже в коде это переменная train_loader), который будет генерировать нам мини-батчи данных. Не надо писать генерацию мини-батчей из данных руками!"
   ]
  },
  {
   "cell_type": "code",
   "execution_count": 21,
   "metadata": {
    "colab": {},
    "colab_type": "code",
    "id": "yC95aekCXSGK"
   },
   "outputs": [],
   "source": [
    "batch_size = 64\n",
    "\n",
    "train_data = torchvision.datasets.ImageFolder('./notMNIST_train/', transform=transforms.Compose([\n",
    "    transforms.Grayscale(num_output_channels=1),\n",
    "    transforms.ToTensor()])\n",
    "    )\n",
    "train_loader = data_utils.DataLoader(train_data, batch_size=batch_size, shuffle=True)\n",
    "\n",
    "val_data = torchvision.datasets.ImageFolder('./notMNIST_val/', transform=transforms.Compose([\n",
    "    transforms.Grayscale(num_output_channels=1),\n",
    "    transforms.ToTensor()])\n",
    "    )\n",
    "val_loader = data_utils.DataLoader(val_data, batch_size=1, shuffle=False)"
   ]
  },
  {
   "cell_type": "markdown",
   "metadata": {
    "colab_type": "text",
    "id": "8SKAqjJPXSGO"
   },
   "source": [
    "Давайте помотрим, как выглядят наши картинки:"
   ]
  },
  {
   "cell_type": "code",
   "execution_count": 22,
   "metadata": {
    "colab": {
     "base_uri": "https://localhost:8080/",
     "height": 296
    },
    "colab_type": "code",
    "id": "nJf-NtDjXSGO",
    "outputId": "1e3e841d-32a9-4184-f890-31894e0f583d"
   },
   "outputs": [
    {
     "data": {
      "image/png": "[encoded data removed]",
      "text/plain": [
       "<Figure size 648x367.2 with 18 Axes>"
      ]
     },
     "metadata": {},
     "output_type": "display_data"
    }
   ],
   "source": [
    "def plot_gallery(images, labels, h, w, n_row=3, n_col=6):\n",
    "    \"\"\"Helper function to plot a gallery of portraits\"\"\"\n",
    "    plt.figure(figsize=(1.5 * n_col, 1.7 * n_row))\n",
    "    plt.subplots_adjust(bottom=0, left=.01, right=.99, top=.90, hspace=.35)\n",
    "    for i in range(n_row * n_col):\n",
    "        plt.subplot(n_row, n_col, i + 1)\n",
    "        plt.title(labels[i])\n",
    "        plt.imshow(images[i].numpy().reshape((28, 28)), cmap=plt.cm.gray, vmin=-1, vmax=1)\n",
    "        plt.xticks(())\n",
    "        plt.yticks(())\n",
    "\n",
    "\n",
    "\n",
    "# достаем случайные картинки из обучающей выборки\n",
    "dataiter = iter(train_loader)\n",
    "images, labels = dataiter.next()\n",
    "\n",
    "# вызываем функцию, реализующую демонстрацию изображений, что мы можем видеть на них?\n",
    "plot_gallery(images, [classes[labels[j]] for j in range(len(images))], IMG_H, IMG_W)"
   ]
  },
  {
   "cell_type": "markdown",
   "metadata": {
    "colab_type": "text",
    "id": "vmYn5EbVXSGS"
   },
   "source": [
    "Ну, выборка готова, теперь зададим архитектуру сети:"
   ]
  },
  {
   "cell_type": "code",
   "execution_count": 23,
   "metadata": {
    "colab": {},
    "colab_type": "code",
    "id": "Zv_l9GJYXSGT"
   },
   "outputs": [],
   "source": [
    "hid_size = 100\n",
    "out_size = n_classes\n",
    "\n",
    "class TwoLayerNet(nn.Module):\n",
    "    def __init__(self, h, w, hid_size, out_size):\n",
    "        super(TwoLayerNet, self).__init__()\n",
    "        # объявляем слои для нашей сети\n",
    "        self.linear1 = nn.Linear(h*w, hid_size)\n",
    "        self.linear2 = nn.Linear(hid_size, out_size)\n",
    "\n",
    "    def forward(self, x):\n",
    "        \n",
    "        x = self.linear1(x)\n",
    "        # функция активации\n",
    "        x = F.relu(x)\n",
    "        x = self.linear2(x)\n",
    "        return x\n",
    "    \n",
    "two_layer_net = TwoLayerNet(h=IMG_H, w=IMG_W, hid_size=hid_size, out_size=out_size)"
   ]
  },
  {
   "cell_type": "markdown",
   "metadata": {
    "colab_type": "text",
    "id": "7Rf-ODstXSGW"
   },
   "source": [
    "В качестве лосса для нашей многоклассовой классификации опять же возьмем кросс-энтропию:\n",
    "\n",
    "https://pytorch.org/docs/stable/nn.html#torch.nn.CrossEntropyLoss"
   ]
  },
  {
   "cell_type": "code",
   "execution_count": 24,
   "metadata": {
    "colab": {},
    "colab_type": "code",
    "id": "edzUtVVVXSGX"
   },
   "outputs": [],
   "source": [
    "loss_fn = torch.nn.CrossEntropyLoss()"
   ]
  },
  {
   "cell_type": "markdown",
   "metadata": {
    "colab_type": "text",
    "id": "ced5_FMTXSGZ"
   },
   "source": [
    "Теперь зададим learning rate и оптимизатор -- знакомый нам SGD"
   ]
  },
  {
   "cell_type": "code",
   "execution_count": 25,
   "metadata": {
    "colab": {},
    "colab_type": "code",
    "id": "wNMKqnS1XSGa"
   },
   "outputs": [],
   "source": [
    "learning_rate = 1e-3\n",
    "optimizer = torch.optim.SGD(two_layer_net.parameters(), lr=learning_rate)"
   ]
  },
  {
   "cell_type": "markdown",
   "metadata": {
    "colab_type": "text",
    "id": "o4BunhF_XSGb"
   },
   "source": [
    "И, наконец, функция непосредственно обучения сети:\n",
    "\n",
    "При обучении сети после каждой эпохи будем измерять не только полученный лосс на валидации (кросс-энтропию), но и accuracy. Зачем? Потому что человеку, глядя только на значение кросс-энтропии, сложно понять, насколько \"хорошо\" на самом деле сетка себя ведет. Глядя на accuracy, это понять намного легче =)"
   ]
  },
  {
   "cell_type": "code",
   "execution_count": 26,
   "metadata": {
    "colab": {},
    "colab_type": "code",
    "id": "AdkoQn5hXSGc",
    "scrolled": false
   },
   "outputs": [],
   "source": [
    "from IPython import display\n",
    "from sklearn.metrics import accuracy_score\n",
    "from tqdm import tqdm\n",
    "\n",
    "def train(train_loader, val_loader, num_epochs=100):\n",
    "    train_losses = []\n",
    "    val_losses = []\n",
    "\n",
    "    train_acc = []\n",
    "    val_acc = []\n",
    "    \n",
    "\n",
    "    for epoch in tqdm(range(num_epochs)):\n",
    "        display.clear_output(wait=True)\n",
    "        \n",
    "        # 1. forward\n",
    "        two_layer_net.train(True)\n",
    "        loss_batch = []\n",
    "        acc_batch = []\n",
    "        for x_train, y_train in train_loader:\n",
    "            x_train = Variable(x_train.view(x_train.shape[0], -1))\n",
    "            pred = two_layer_net(x_train)\n",
    "            (max_vals, arg_maxs) = torch.max(pred.data, dim=1) \n",
    "            acc_batch.append(accuracy_score(y_train, arg_maxs))\n",
    "            loss = loss_fn(pred, y_train)\n",
    "            loss.backward()\n",
    "            optimizer.step()\n",
    "            optimizer.zero_grad()\n",
    "            loss_batch.append(loss.detach().numpy())\n",
    "        train_losses.append(np.mean(loss_batch))\n",
    "        train_acc.append(np.mean(acc_batch))\n",
    "\n",
    "        # 2. val\n",
    "        two_layer_net.train(False)\n",
    "        loss_batch = []\n",
    "        acc_batch = []\n",
    "        for i, (x_val, y_val) in enumerate(val_loader):\n",
    "            x_val = Variable(x_val.view(x_val.shape[0], -1))\n",
    "            pred = two_layer_net(x_val)\n",
    "            (max_vals, arg_maxs) = torch.max(pred.data, dim=1)\n",
    "            acc_batch.append(accuracy_score(y_val, arg_maxs))\n",
    "            loss = loss_fn(pred, y_val)\n",
    "            loss_batch.append(loss.detach().numpy())\n",
    "\n",
    "        val_losses.append(np.mean(loss_batch))\n",
    "        val_acc.append(np.mean(acc_batch))\n",
    "        lastLo = val_losses[-1]\n",
    "        minLo = min(val_losses)\n",
    "        if (lastLo <= minLo):\n",
    "            torch.save(two_layer_net.state_dict(), 'best.pth')\n",
    "         \n",
    "       # plt.plot(train_losses, val_losses, marker='o'')\n",
    "        fig, axes = plt.subplots(ncols=2, nrows=1)\n",
    "        plt.legend()\n",
    "        fig.tight_layout()\n",
    "        plt.title(\"losses\")\n",
    "        axes[0].plot(train_losses, label=\"train loss\")\n",
    "        axes[0].plot(val_losses, label=\"val loss\")\n",
    "        plt.legend()\n",
    "\n",
    "        plt.title(\"accuracies\")\n",
    "        axes[1].plot(train_acc, label=\"train accuracy\")\n",
    "        axes[1].plot(val_acc, label=\"val accuracy\")\n",
    "        plt.legend()\n",
    "\n",
    "        plt.show() \n",
    "        \n",
    "    print(\"Final loss: \", val_losses[-1])\n",
    "    print(\"Final accuracy: \", val_acc[-1])"
   ]
  },
  {
   "cell_type": "code",
   "execution_count": 27,
   "metadata": {
    "colab": {
     "base_uri": "https://localhost:8080/",
     "height": 399
    },
    "colab_type": "code",
    "id": "41A0oV7CXSGe",
    "outputId": "cd956688-c833-4a22-aee8-1eb0659b68f5"
   },
   "outputs": [
    {
     "name": "stderr",
     "output_type": "stream",
     "text": [
      "No handles with labels found to put in legend.\n",
      "No handles with labels found to put in legend.\n"
     ]
    },
    {
     "data": {
      "image/png": "[encoded data removed]",
      "text/plain": [
       "<Figure size 432x288 with 2 Axes>"
      ]
     },
     "metadata": {
      "needs_background": "light"
     },
     "output_type": "display_data"
    },
    {
     "name": "stderr",
     "output_type": "stream",
     "text": [
      "100%|██████████████████████████████████████████████████████████████████████████████████| 20/20 [01:55<00:00,  5.79s/it]\n"
     ]
    },
    {
     "name": "stdout",
     "output_type": "stream",
     "text": [
      "Final loss:  0.6452012\n",
      "Final accuracy:  0.8605769230769231\n"
     ]
    }
   ],
   "source": [
    "train(train_loader, val_loader, num_epochs=20)"
   ]
  },
  {
   "cell_type": "markdown",
   "metadata": {
    "colab_type": "text",
    "id": "CHeUGE3VXSGh"
   },
   "source": [
    "Давайте теперь вспомним, что SGD -- не единственный оптимизатор, который мы знаем. Есть еще куча -- RMSprop, Adam, Adadelta, Adagrad...\n",
    "\n",
    "На данный момент самым лучшим (в плане скорости сходимости) считается Adam. Давайте попробуем заменить для нашей сети SGD на Adam:"
   ]
  },
  {
   "cell_type": "code",
   "execution_count": 28,
   "metadata": {
    "colab": {},
    "colab_type": "code",
    "id": "VheKSwnqXSGh"
   },
   "outputs": [],
   "source": [
    "two_layer_net = TwoLayerNet(h=IMG_H, w=IMG_W, hid_size=hid_size, out_size=out_size)\n",
    "loss_fn = torch.nn.CrossEntropyLoss()\n",
    "optimizer = torch.optim.Adam(two_layer_net.parameters(), lr=learning_rate)"
   ]
  },
  {
   "cell_type": "code",
   "execution_count": 29,
   "metadata": {
    "colab": {
     "base_uri": "https://localhost:8080/",
     "height": 399
    },
    "colab_type": "code",
    "id": "NcLvJzdvXSGj",
    "outputId": "2d807def-66cf-4ba2-db73-21d3771479c6"
   },
   "outputs": [
    {
     "name": "stderr",
     "output_type": "stream",
     "text": [
      "No handles with labels found to put in legend.\n",
      "No handles with labels found to put in legend.\n"
     ]
    },
    {
     "data": {
      "image/png": "[encoded data removed]",
      "text/plain": [
       "<Figure size 432x288 with 2 Axes>"
      ]
     },
     "metadata": {
      "needs_background": "light"
     },
     "output_type": "display_data"
    },
    {
     "name": "stderr",
     "output_type": "stream",
     "text": [
      "100%|██████████████████████████████████████████████████████████████████████████████████| 10/10 [01:01<00:00,  6.17s/it]\n"
     ]
    },
    {
     "name": "stdout",
     "output_type": "stream",
     "text": [
      "Final loss:  0.31503648\n",
      "Final accuracy:  0.9131410256410256\n"
     ]
    }
   ],
   "source": [
    "train(train_loader, val_loader, num_epochs=10)"
   ]
  },
  {
   "cell_type": "markdown",
   "metadata": {
    "colab_type": "text",
    "id": "Q4ahjvCVXSGm"
   },
   "source": [
    "Хм, сильное переобучение. Как с этим бороться? Например, можно уменьшить learning rate, тогда веса будут обновляться \"аккуратнее\", и обучение будет более стабильным. Давайте попробуем!"
   ]
  },
  {
   "cell_type": "code",
   "execution_count": 30,
   "metadata": {
    "colab": {},
    "colab_type": "code",
    "id": "Kl_4CrOCXSGn"
   },
   "outputs": [],
   "source": [
    "two_layer_net = TwoLayerNet(h=IMG_H, w=IMG_W, hid_size=hid_size, out_size=out_size)\n",
    "loss_fn = torch.nn.CrossEntropyLoss()\n",
    "learning_rate=1e-4\n",
    "optimizer = torch.optim.Adam(two_layer_net.parameters(), lr=learning_rate)"
   ]
  },
  {
   "cell_type": "code",
   "execution_count": 31,
   "metadata": {
    "colab": {
     "base_uri": "https://localhost:8080/",
     "height": 399
    },
    "colab_type": "code",
    "id": "re6dC_q8XSGo",
    "outputId": "2353dbce-455c-4f50-8df1-f8607b68aba9"
   },
   "outputs": [
    {
     "name": "stderr",
     "output_type": "stream",
     "text": [
      "No handles with labels found to put in legend.\n",
      "No handles with labels found to put in legend.\n"
     ]
    },
    {
     "data": {
      "image/png": "[encoded data removed]",
      "text/plain": [
       "<Figure size 432x288 with 2 Axes>"
      ]
     },
     "metadata": {
      "needs_background": "light"
     },
     "output_type": "display_data"
    },
    {
     "name": "stderr",
     "output_type": "stream",
     "text": [
      "100%|██████████████████████████████████████████████████████████████████████████████████| 20/20 [01:59<00:00,  6.00s/it]\n"
     ]
    },
    {
     "name": "stdout",
     "output_type": "stream",
     "text": [
      "Final loss:  0.36122194\n",
      "Final accuracy:  0.9051282051282051\n"
     ]
    }
   ],
   "source": [
    "train(train_loader, val_loader, num_epochs=20)"
   ]
  },
  {
   "cell_type": "markdown",
   "metadata": {
    "colab_type": "text",
    "id": "wgfB_lQKXSGr"
   },
   "source": [
    "Как видим, за те же 20 эпох Adam обучился на 5% качества лучше, чем SGD, хотя мы не занимались жестким подбором параметров (learning rate, например). Хотя небольшое переобучение все же имеет место. Можно поиграться с разными оптимайзерами и learning_rate'ми и посмотреть, что будет =)"
   ]
  },
  {
   "cell_type": "markdown",
   "metadata": {
    "colab_type": "text",
    "id": "zSn0xvVMtzXf"
   },
   "source": [
    "**Попробуем улучшить!**"
   ]
  },
  {
   "cell_type": "code",
   "execution_count": 36,
   "metadata": {
    "colab": {},
    "colab_type": "code",
    "id": "rXkv9IIwkYMF"
   },
   "outputs": [],
   "source": [
    "two_layer_net = TwoLayerNet(h=IMG_H, w=IMG_W, hid_size=hid_size, out_size=out_size)\n",
    "loss_fn = torch.nn.CrossEntropyLoss()\n",
    "learning_rate=0.0006\n",
    "optimizer = torch.optim.Adam(two_layer_net.parameters(), lr=learning_rate)"
   ]
  },
  {
   "cell_type": "code",
   "execution_count": 37,
   "metadata": {
    "colab": {
     "base_uri": "https://localhost:8080/",
     "height": 399
    },
    "colab_type": "code",
    "id": "1O7VerhgkYT_",
    "outputId": "37c65be4-88bf-468b-adcc-0cc6b5f95113"
   },
   "outputs": [
    {
     "name": "stderr",
     "output_type": "stream",
     "text": [
      "No handles with labels found to put in legend.\n",
      "No handles with labels found to put in legend.\n"
     ]
    },
    {
     "data": {
      "image/png": "[encoded data removed]",
      "text/plain": [
       "<Figure size 432x288 with 2 Axes>"
      ]
     },
     "metadata": {
      "needs_background": "light"
     },
     "output_type": "display_data"
    },
    {
     "name": "stderr",
     "output_type": "stream",
     "text": [
      "100%|██████████████████████████████████████████████████████████████████████████████████| 20/20 [02:05<00:00,  6.30s/it]\n"
     ]
    },
    {
     "name": "stdout",
     "output_type": "stream",
     "text": [
      "Final loss:  0.33045718\n",
      "Final accuracy:  0.9176282051282051\n"
     ]
    }
   ],
   "source": [
    "train(train_loader, val_loader, num_epochs=20)"
   ]
  },
  {
   "cell_type": "markdown",
   "metadata": {
    "colab_type": "text",
    "id": "l-pGiPqdtWvV"
   },
   "source": [
    "**Удалось улучшить результат изменив learning_rate=0.0006**"
   ]
  },
  {
   "cell_type": "markdown",
   "metadata": {
    "colab_type": "text",
    "id": "2igCvoEQtogI"
   },
   "source": [
    "**Новый результат**: Final loss:  0.33045718\n",
    "Final accuracy:  0.9176282051282051"
   ]
  },
  {
   "cell_type": "code",
   "execution_count": 0,
   "metadata": {
    "colab": {},
    "colab_type": "code",
    "id": "VBUzb5wKrlw7"
   },
   "outputs": [],
   "source": []
  },
  {
   "cell_type": "code",
   "execution_count": 0,
   "metadata": {
    "colab": {},
    "colab_type": "code",
    "id": "JLSXzuXdXSGs"
   },
   "outputs": [],
   "source": [
    "---"
   ]
  },
  {
   "cell_type": "markdown",
   "metadata": {
    "colab_type": "text",
    "id": "Y-vVdqeASHCa"
   },
   "source": [
    "### Dropout"
   ]
  },
  {
   "cell_type": "code",
   "execution_count": 0,
   "metadata": {
    "colab": {},
    "colab_type": "code",
    "id": "sfTHDKv6syNt"
   },
   "outputs": [],
   "source": [
    "hid_size = 100\n",
    "out_size = n_classes\n",
    "\n",
    "class ThreeLayerNet(nn.Module):\n",
    "    def __init__(self, h, w, hid_size, out_size):\n",
    "        super(ThreeLayerNet, self).__init__()\n",
    "        # объявляем слои для нашей сети\n",
    "        self.linear1 = nn.Linear(h*w, hid_size)\n",
    "        self.dropout1 = nn.Dropout(0.1)\n",
    "#         self.batch_norm1 = nn.BatchNorm1d(hid_size)\n",
    "        \n",
    "        self.linear2 = nn.Linear(hid_size, hid_size)\n",
    "        self.dropout2 = nn.Dropout(0.1)\n",
    "#         self.batch_norm2 = nn.BatchNorm1d(hid_size)\n",
    "       \n",
    "        self.linear3 = nn.Linear(hid_size, out_size)\n",
    "\n",
    "    def forward(self, x):\n",
    "        \n",
    "        x = self.linear1(x)\n",
    "        # функция активации\n",
    "        x = F.relu(x)\n",
    "        x = self.dropout1(x)\n",
    "#         x = self.batch_norm1(x)\n",
    "        x = self.linear2(x)\n",
    "        x = F.relu(x)\n",
    "        x = self.dropout2(x)\n",
    "#         x = self.batch_norm2(x)\n",
    "        x = self.linear3(x)\n",
    "        return x\n",
    "    \n",
    "# two_layer_net = TwoLayerNet(h=IMG_H, w=IMG_W, hid_size=hid_size, out_size=out_size)"
   ]
  },
  {
   "cell_type": "code",
   "execution_count": 0,
   "metadata": {
    "colab": {},
    "colab_type": "code",
    "id": "klqA4nHTsy0c"
   },
   "outputs": [],
   "source": [
    "two_layer_net = ThreeLayerNet(h=IMG_H, w=IMG_W, hid_size=20, out_size=out_size)\n",
    "loss_fn = torch.nn.CrossEntropyLoss()\n",
    "learning_rate=1e-3\n",
    "optimizer = torch.optim.Adam(two_layer_net.parameters(), lr=learning_rate)"
   ]
  },
  {
   "cell_type": "code",
   "execution_count": 0,
   "metadata": {
    "colab": {},
    "colab_type": "code",
    "id": "AVxGlIyys0eb"
   },
   "outputs": [],
   "source": [
    "train(train_loader, val_loader, num_epochs=20)"
   ]
  },
  {
   "cell_type": "markdown",
   "metadata": {
    "colab_type": "text",
    "id": "6wzJL30Zsw1H"
   },
   "source": [
    "### Batch Normalization (BatchNorm) (небольшой пример)"
   ]
  },
  {
   "cell_type": "code",
   "execution_count": 0,
   "metadata": {
    "colab": {},
    "colab_type": "code",
    "id": "bbhcYXpzs1_D"
   },
   "outputs": [],
   "source": [
    "hid_size = 100\n",
    "out_size = n_classes\n",
    "\n",
    "class TwoLayerNet_BN(nn.Module):\n",
    "    def __init__(self, h, w, hid_size, out_size):\n",
    "        super(TwoLayerNet_BN, self).__init__()\n",
    "        # объявляем слои для нашей сети\n",
    "        self.linear1 = nn.Linear(h*w, hid_size)\n",
    "        self.dropout1 = nn.Dropout(0.2)\n",
    "        self.batch_norm1 = nn.BatchNorm1d(hid_size)\n",
    "        \n",
    "        self.linear2 = nn.Linear(hid_size, hid_size)\n",
    "        self.dropout2 = nn.Dropout(0.2)\n",
    "        self.batch_norm2 = nn.BatchNorm1d(hid_size)\n",
    "       \n",
    "        self.linear3 = nn.Linear(hid_size, out_size)\n",
    "\n",
    "    def forward(self, x):\n",
    "        \n",
    "        x = self.linear1(x)\n",
    "        # функция активации\n",
    "        x = F.relu(x)\n",
    "        x = self.dropout1(x)\n",
    "        x = self.batch_norm1(x)\n",
    "        x = self.linear2(x)\n",
    "        x = F.relu(x)\n",
    "        x = self.dropout2(x)\n",
    "        x = self.batch_norm2(x)\n",
    "        x = self.linear3(x)\n",
    "        return x\n",
    "    \n",
    "# two_layer_net = TwoLayerNet(h=IMG_H, w=IMG_W, hid_size=hid_size, out_size=out_size)"
   ]
  },
  {
   "cell_type": "code",
   "execution_count": 0,
   "metadata": {
    "colab": {},
    "colab_type": "code",
    "id": "MMCB5OEatEkS"
   },
   "outputs": [],
   "source": [
    "two_layer_net = TwoLayerNet_BN(h=IMG_H, w=IMG_W, hid_size=20, out_size=out_size)\n",
    "loss_fn = torch.nn.CrossEntropyLoss()\n",
    "learning_rate=5e-4\n",
    "optimizer = torch.optim.Adam(two_layer_net.parameters(), lr=learning_rate)"
   ]
  },
  {
   "cell_type": "code",
   "execution_count": 0,
   "metadata": {
    "colab": {},
    "colab_type": "code",
    "id": "HNX5fX21tFMe"
   },
   "outputs": [],
   "source": [
    "train(train_loader, val_loader, num_epochs=20)"
   ]
  }
 ],
 "metadata": {
  "accelerator": "GPU",
  "colab": {
   "collapsed_sections": [],
   "name": "LAB5_2_Шамырканова_Роза_ПИ19_1м (1).ipynb",
   "provenance": []
  },
  "kernelspec": {
   "display_name": "Python 3",
   "language": "python",
   "name": "python3"
  },
  "language_info": {
   "codemirror_mode": {
    "name": "ipython",
    "version": 3
   },
   "file_extension": ".py",
   "mimetype": "text/x-python",
   "name": "python",
   "nbconvert_exporter": "python",
   "pygments_lexer": "ipython3",
   "version": "3.6.4"
  }
 },
 "nbformat": 4,
 "nbformat_minor": 1
}
